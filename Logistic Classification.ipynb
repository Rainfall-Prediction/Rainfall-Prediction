{
 "cells": [
  {
   "cell_type": "code",
   "execution_count": 1,
   "metadata": {},
   "outputs": [],
   "source": [
    "import pandas as pd\n",
    "import numpy as np\n",
    "import statsmodels.stats as st\n",
    "import statsmodels.api as sm\n",
    "import matplotlib.pyplot as plt\n",
    "import seaborn as sns\n",
    "import warnings\n",
    "warnings.filterwarnings('ignore')\n",
    "pd.pandas.set_option(\"display.max_columns\",None)\n",
    "%matplotlib inline"
   ]
  },
  {
   "cell_type": "code",
   "execution_count": 2,
   "metadata": {},
   "outputs": [],
   "source": [
    "data = pd.read_csv(\"Cleaned_data.csv\")"
   ]
  },
  {
   "cell_type": "code",
   "execution_count": 3,
   "metadata": {},
   "outputs": [
    {
     "data": {
      "text/html": [
       "<div>\n",
       "<style scoped>\n",
       "    .dataframe tbody tr th:only-of-type {\n",
       "        vertical-align: middle;\n",
       "    }\n",
       "\n",
       "    .dataframe tbody tr th {\n",
       "        vertical-align: top;\n",
       "    }\n",
       "\n",
       "    .dataframe thead th {\n",
       "        text-align: right;\n",
       "    }\n",
       "</style>\n",
       "<table border=\"1\" class=\"dataframe\">\n",
       "  <thead>\n",
       "    <tr style=\"text-align: right;\">\n",
       "      <th></th>\n",
       "      <th>Date</th>\n",
       "      <th>Location</th>\n",
       "      <th>MinTemp</th>\n",
       "      <th>MaxTemp</th>\n",
       "      <th>Rainfall</th>\n",
       "      <th>Evaporation</th>\n",
       "      <th>Sunshine</th>\n",
       "      <th>WindGustDir</th>\n",
       "      <th>WindGustSpeed</th>\n",
       "      <th>WindDir9am</th>\n",
       "      <th>WindDir3pm</th>\n",
       "      <th>WindSpeed9am</th>\n",
       "      <th>WindSpeed3pm</th>\n",
       "      <th>Humidity9am</th>\n",
       "      <th>Humidity3pm</th>\n",
       "      <th>Pressure9am</th>\n",
       "      <th>Pressure3pm</th>\n",
       "      <th>Cloud9am</th>\n",
       "      <th>Cloud3pm</th>\n",
       "      <th>Temp9am</th>\n",
       "      <th>Temp3pm</th>\n",
       "      <th>RainToday</th>\n",
       "      <th>RISK_MM</th>\n",
       "      <th>RainTomorrow</th>\n",
       "    </tr>\n",
       "  </thead>\n",
       "  <tbody>\n",
       "    <tr>\n",
       "      <th>0</th>\n",
       "      <td>2008-12-01</td>\n",
       "      <td>Albury</td>\n",
       "      <td>13.4</td>\n",
       "      <td>22.9</td>\n",
       "      <td>0.6</td>\n",
       "      <td>2.6</td>\n",
       "      <td>9.1</td>\n",
       "      <td>W</td>\n",
       "      <td>44.0</td>\n",
       "      <td>W</td>\n",
       "      <td>WNW</td>\n",
       "      <td>20.0</td>\n",
       "      <td>24.0</td>\n",
       "      <td>71.0</td>\n",
       "      <td>22.0</td>\n",
       "      <td>1007.7</td>\n",
       "      <td>1007.1</td>\n",
       "      <td>8.0</td>\n",
       "      <td>7.0</td>\n",
       "      <td>16.9</td>\n",
       "      <td>21.8</td>\n",
       "      <td>No</td>\n",
       "      <td>0.0</td>\n",
       "      <td>No</td>\n",
       "    </tr>\n",
       "    <tr>\n",
       "      <th>1</th>\n",
       "      <td>2008-12-02</td>\n",
       "      <td>Albury</td>\n",
       "      <td>7.4</td>\n",
       "      <td>25.1</td>\n",
       "      <td>0.0</td>\n",
       "      <td>8.0</td>\n",
       "      <td>8.1</td>\n",
       "      <td>WNW</td>\n",
       "      <td>44.0</td>\n",
       "      <td>NNW</td>\n",
       "      <td>WSW</td>\n",
       "      <td>4.0</td>\n",
       "      <td>22.0</td>\n",
       "      <td>44.0</td>\n",
       "      <td>25.0</td>\n",
       "      <td>1010.6</td>\n",
       "      <td>1007.8</td>\n",
       "      <td>7.0</td>\n",
       "      <td>8.0</td>\n",
       "      <td>17.2</td>\n",
       "      <td>24.3</td>\n",
       "      <td>No</td>\n",
       "      <td>0.0</td>\n",
       "      <td>No</td>\n",
       "    </tr>\n",
       "    <tr>\n",
       "      <th>2</th>\n",
       "      <td>2008-12-03</td>\n",
       "      <td>Albury</td>\n",
       "      <td>12.9</td>\n",
       "      <td>25.7</td>\n",
       "      <td>0.0</td>\n",
       "      <td>7.8</td>\n",
       "      <td>11.3</td>\n",
       "      <td>WSW</td>\n",
       "      <td>46.0</td>\n",
       "      <td>W</td>\n",
       "      <td>WSW</td>\n",
       "      <td>19.0</td>\n",
       "      <td>26.0</td>\n",
       "      <td>38.0</td>\n",
       "      <td>30.0</td>\n",
       "      <td>1007.6</td>\n",
       "      <td>1008.7</td>\n",
       "      <td>0.0</td>\n",
       "      <td>2.0</td>\n",
       "      <td>21.0</td>\n",
       "      <td>23.2</td>\n",
       "      <td>No</td>\n",
       "      <td>0.0</td>\n",
       "      <td>No</td>\n",
       "    </tr>\n",
       "    <tr>\n",
       "      <th>3</th>\n",
       "      <td>2008-12-04</td>\n",
       "      <td>Albury</td>\n",
       "      <td>9.2</td>\n",
       "      <td>28.0</td>\n",
       "      <td>0.0</td>\n",
       "      <td>5.0</td>\n",
       "      <td>12.8</td>\n",
       "      <td>NE</td>\n",
       "      <td>24.0</td>\n",
       "      <td>SE</td>\n",
       "      <td>E</td>\n",
       "      <td>11.0</td>\n",
       "      <td>9.0</td>\n",
       "      <td>45.0</td>\n",
       "      <td>16.0</td>\n",
       "      <td>1017.6</td>\n",
       "      <td>1012.8</td>\n",
       "      <td>1.0</td>\n",
       "      <td>3.0</td>\n",
       "      <td>18.1</td>\n",
       "      <td>26.5</td>\n",
       "      <td>No</td>\n",
       "      <td>1.0</td>\n",
       "      <td>No</td>\n",
       "    </tr>\n",
       "    <tr>\n",
       "      <th>4</th>\n",
       "      <td>2008-12-05</td>\n",
       "      <td>Albury</td>\n",
       "      <td>17.5</td>\n",
       "      <td>32.3</td>\n",
       "      <td>1.0</td>\n",
       "      <td>2.6</td>\n",
       "      <td>11.0</td>\n",
       "      <td>W</td>\n",
       "      <td>41.0</td>\n",
       "      <td>ENE</td>\n",
       "      <td>NW</td>\n",
       "      <td>7.0</td>\n",
       "      <td>20.0</td>\n",
       "      <td>82.0</td>\n",
       "      <td>33.0</td>\n",
       "      <td>1010.8</td>\n",
       "      <td>1006.0</td>\n",
       "      <td>7.0</td>\n",
       "      <td>8.0</td>\n",
       "      <td>17.8</td>\n",
       "      <td>29.7</td>\n",
       "      <td>No</td>\n",
       "      <td>0.2</td>\n",
       "      <td>No</td>\n",
       "    </tr>\n",
       "  </tbody>\n",
       "</table>\n",
       "</div>"
      ],
      "text/plain": [
       "         Date Location  MinTemp  MaxTemp  Rainfall  Evaporation  Sunshine  \\\n",
       "0  2008-12-01   Albury     13.4     22.9       0.6          2.6       9.1   \n",
       "1  2008-12-02   Albury      7.4     25.1       0.0          8.0       8.1   \n",
       "2  2008-12-03   Albury     12.9     25.7       0.0          7.8      11.3   \n",
       "3  2008-12-04   Albury      9.2     28.0       0.0          5.0      12.8   \n",
       "4  2008-12-05   Albury     17.5     32.3       1.0          2.6      11.0   \n",
       "\n",
       "  WindGustDir  WindGustSpeed WindDir9am WindDir3pm  WindSpeed9am  \\\n",
       "0           W           44.0          W        WNW          20.0   \n",
       "1         WNW           44.0        NNW        WSW           4.0   \n",
       "2         WSW           46.0          W        WSW          19.0   \n",
       "3          NE           24.0         SE          E          11.0   \n",
       "4           W           41.0        ENE         NW           7.0   \n",
       "\n",
       "   WindSpeed3pm  Humidity9am  Humidity3pm  Pressure9am  Pressure3pm  Cloud9am  \\\n",
       "0          24.0         71.0         22.0       1007.7       1007.1       8.0   \n",
       "1          22.0         44.0         25.0       1010.6       1007.8       7.0   \n",
       "2          26.0         38.0         30.0       1007.6       1008.7       0.0   \n",
       "3           9.0         45.0         16.0       1017.6       1012.8       1.0   \n",
       "4          20.0         82.0         33.0       1010.8       1006.0       7.0   \n",
       "\n",
       "   Cloud3pm  Temp9am  Temp3pm RainToday  RISK_MM RainTomorrow  \n",
       "0       7.0     16.9     21.8        No      0.0           No  \n",
       "1       8.0     17.2     24.3        No      0.0           No  \n",
       "2       2.0     21.0     23.2        No      0.0           No  \n",
       "3       3.0     18.1     26.5        No      1.0           No  \n",
       "4       8.0     17.8     29.7        No      0.2           No  "
      ]
     },
     "execution_count": 3,
     "metadata": {},
     "output_type": "execute_result"
    }
   ],
   "source": [
    "df = data.copy()\n",
    "df.head()"
   ]
  },
  {
   "cell_type": "code",
   "execution_count": 4,
   "metadata": {},
   "outputs": [
    {
     "name": "stdout",
     "output_type": "stream",
     "text": [
      "<class 'pandas.core.frame.DataFrame'>\n",
      "RangeIndex: 142193 entries, 0 to 142192\n",
      "Data columns (total 24 columns):\n",
      " #   Column         Non-Null Count   Dtype  \n",
      "---  ------         --------------   -----  \n",
      " 0   Date           142193 non-null  object \n",
      " 1   Location       142193 non-null  object \n",
      " 2   MinTemp        142193 non-null  float64\n",
      " 3   MaxTemp        142193 non-null  float64\n",
      " 4   Rainfall       142193 non-null  float64\n",
      " 5   Evaporation    142193 non-null  float64\n",
      " 6   Sunshine       142193 non-null  float64\n",
      " 7   WindGustDir    142193 non-null  object \n",
      " 8   WindGustSpeed  142193 non-null  float64\n",
      " 9   WindDir9am     142193 non-null  object \n",
      " 10  WindDir3pm     142193 non-null  object \n",
      " 11  WindSpeed9am   142193 non-null  float64\n",
      " 12  WindSpeed3pm   142193 non-null  float64\n",
      " 13  Humidity9am    142193 non-null  float64\n",
      " 14  Humidity3pm    142193 non-null  float64\n",
      " 15  Pressure9am    142193 non-null  float64\n",
      " 16  Pressure3pm    142193 non-null  float64\n",
      " 17  Cloud9am       142193 non-null  float64\n",
      " 18  Cloud3pm       142193 non-null  float64\n",
      " 19  Temp9am        142193 non-null  float64\n",
      " 20  Temp3pm        142193 non-null  float64\n",
      " 21  RainToday      142193 non-null  object \n",
      " 22  RISK_MM        142193 non-null  float64\n",
      " 23  RainTomorrow   142193 non-null  object \n",
      "dtypes: float64(17), object(7)\n",
      "memory usage: 26.0+ MB\n"
     ]
    }
   ],
   "source": [
    "df.info()"
   ]
  },
  {
   "cell_type": "markdown",
   "metadata": {},
   "source": [
    "## FEATURE ENGINEERING"
   ]
  },
  {
   "cell_type": "markdown",
   "metadata": {},
   "source": [
    "We will be adding Months from the 'Date' feature in our dataset, as with every month season changes and chances of rainfall is related with the change in season."
   ]
  },
  {
   "cell_type": "code",
   "execution_count": 5,
   "metadata": {},
   "outputs": [
    {
     "data": {
      "text/html": [
       "<div>\n",
       "<style scoped>\n",
       "    .dataframe tbody tr th:only-of-type {\n",
       "        vertical-align: middle;\n",
       "    }\n",
       "\n",
       "    .dataframe tbody tr th {\n",
       "        vertical-align: top;\n",
       "    }\n",
       "\n",
       "    .dataframe thead th {\n",
       "        text-align: right;\n",
       "    }\n",
       "</style>\n",
       "<table border=\"1\" class=\"dataframe\">\n",
       "  <thead>\n",
       "    <tr style=\"text-align: right;\">\n",
       "      <th></th>\n",
       "      <th>Date</th>\n",
       "      <th>Location</th>\n",
       "      <th>MinTemp</th>\n",
       "      <th>MaxTemp</th>\n",
       "      <th>Rainfall</th>\n",
       "      <th>Evaporation</th>\n",
       "      <th>Sunshine</th>\n",
       "      <th>WindGustDir</th>\n",
       "      <th>WindGustSpeed</th>\n",
       "      <th>WindDir9am</th>\n",
       "      <th>WindDir3pm</th>\n",
       "      <th>WindSpeed9am</th>\n",
       "      <th>WindSpeed3pm</th>\n",
       "      <th>Humidity9am</th>\n",
       "      <th>Humidity3pm</th>\n",
       "      <th>Pressure9am</th>\n",
       "      <th>Pressure3pm</th>\n",
       "      <th>Cloud9am</th>\n",
       "      <th>Cloud3pm</th>\n",
       "      <th>Temp9am</th>\n",
       "      <th>Temp3pm</th>\n",
       "      <th>RainToday</th>\n",
       "      <th>RISK_MM</th>\n",
       "      <th>RainTomorrow</th>\n",
       "      <th>Month</th>\n",
       "    </tr>\n",
       "  </thead>\n",
       "  <tbody>\n",
       "    <tr>\n",
       "      <th>0</th>\n",
       "      <td>2008-12-01</td>\n",
       "      <td>Albury</td>\n",
       "      <td>13.4</td>\n",
       "      <td>22.9</td>\n",
       "      <td>0.6</td>\n",
       "      <td>2.6</td>\n",
       "      <td>9.1</td>\n",
       "      <td>W</td>\n",
       "      <td>44.0</td>\n",
       "      <td>W</td>\n",
       "      <td>WNW</td>\n",
       "      <td>20.0</td>\n",
       "      <td>24.0</td>\n",
       "      <td>71.0</td>\n",
       "      <td>22.0</td>\n",
       "      <td>1007.7</td>\n",
       "      <td>1007.1</td>\n",
       "      <td>8.0</td>\n",
       "      <td>7.0</td>\n",
       "      <td>16.9</td>\n",
       "      <td>21.8</td>\n",
       "      <td>No</td>\n",
       "      <td>0.0</td>\n",
       "      <td>No</td>\n",
       "      <td>12</td>\n",
       "    </tr>\n",
       "    <tr>\n",
       "      <th>1</th>\n",
       "      <td>2008-12-02</td>\n",
       "      <td>Albury</td>\n",
       "      <td>7.4</td>\n",
       "      <td>25.1</td>\n",
       "      <td>0.0</td>\n",
       "      <td>8.0</td>\n",
       "      <td>8.1</td>\n",
       "      <td>WNW</td>\n",
       "      <td>44.0</td>\n",
       "      <td>NNW</td>\n",
       "      <td>WSW</td>\n",
       "      <td>4.0</td>\n",
       "      <td>22.0</td>\n",
       "      <td>44.0</td>\n",
       "      <td>25.0</td>\n",
       "      <td>1010.6</td>\n",
       "      <td>1007.8</td>\n",
       "      <td>7.0</td>\n",
       "      <td>8.0</td>\n",
       "      <td>17.2</td>\n",
       "      <td>24.3</td>\n",
       "      <td>No</td>\n",
       "      <td>0.0</td>\n",
       "      <td>No</td>\n",
       "      <td>12</td>\n",
       "    </tr>\n",
       "    <tr>\n",
       "      <th>2</th>\n",
       "      <td>2008-12-03</td>\n",
       "      <td>Albury</td>\n",
       "      <td>12.9</td>\n",
       "      <td>25.7</td>\n",
       "      <td>0.0</td>\n",
       "      <td>7.8</td>\n",
       "      <td>11.3</td>\n",
       "      <td>WSW</td>\n",
       "      <td>46.0</td>\n",
       "      <td>W</td>\n",
       "      <td>WSW</td>\n",
       "      <td>19.0</td>\n",
       "      <td>26.0</td>\n",
       "      <td>38.0</td>\n",
       "      <td>30.0</td>\n",
       "      <td>1007.6</td>\n",
       "      <td>1008.7</td>\n",
       "      <td>0.0</td>\n",
       "      <td>2.0</td>\n",
       "      <td>21.0</td>\n",
       "      <td>23.2</td>\n",
       "      <td>No</td>\n",
       "      <td>0.0</td>\n",
       "      <td>No</td>\n",
       "      <td>12</td>\n",
       "    </tr>\n",
       "    <tr>\n",
       "      <th>3</th>\n",
       "      <td>2008-12-04</td>\n",
       "      <td>Albury</td>\n",
       "      <td>9.2</td>\n",
       "      <td>28.0</td>\n",
       "      <td>0.0</td>\n",
       "      <td>5.0</td>\n",
       "      <td>12.8</td>\n",
       "      <td>NE</td>\n",
       "      <td>24.0</td>\n",
       "      <td>SE</td>\n",
       "      <td>E</td>\n",
       "      <td>11.0</td>\n",
       "      <td>9.0</td>\n",
       "      <td>45.0</td>\n",
       "      <td>16.0</td>\n",
       "      <td>1017.6</td>\n",
       "      <td>1012.8</td>\n",
       "      <td>1.0</td>\n",
       "      <td>3.0</td>\n",
       "      <td>18.1</td>\n",
       "      <td>26.5</td>\n",
       "      <td>No</td>\n",
       "      <td>1.0</td>\n",
       "      <td>No</td>\n",
       "      <td>12</td>\n",
       "    </tr>\n",
       "    <tr>\n",
       "      <th>4</th>\n",
       "      <td>2008-12-05</td>\n",
       "      <td>Albury</td>\n",
       "      <td>17.5</td>\n",
       "      <td>32.3</td>\n",
       "      <td>1.0</td>\n",
       "      <td>2.6</td>\n",
       "      <td>11.0</td>\n",
       "      <td>W</td>\n",
       "      <td>41.0</td>\n",
       "      <td>ENE</td>\n",
       "      <td>NW</td>\n",
       "      <td>7.0</td>\n",
       "      <td>20.0</td>\n",
       "      <td>82.0</td>\n",
       "      <td>33.0</td>\n",
       "      <td>1010.8</td>\n",
       "      <td>1006.0</td>\n",
       "      <td>7.0</td>\n",
       "      <td>8.0</td>\n",
       "      <td>17.8</td>\n",
       "      <td>29.7</td>\n",
       "      <td>No</td>\n",
       "      <td>0.2</td>\n",
       "      <td>No</td>\n",
       "      <td>12</td>\n",
       "    </tr>\n",
       "  </tbody>\n",
       "</table>\n",
       "</div>"
      ],
      "text/plain": [
       "         Date Location  MinTemp  MaxTemp  Rainfall  Evaporation  Sunshine  \\\n",
       "0  2008-12-01   Albury     13.4     22.9       0.6          2.6       9.1   \n",
       "1  2008-12-02   Albury      7.4     25.1       0.0          8.0       8.1   \n",
       "2  2008-12-03   Albury     12.9     25.7       0.0          7.8      11.3   \n",
       "3  2008-12-04   Albury      9.2     28.0       0.0          5.0      12.8   \n",
       "4  2008-12-05   Albury     17.5     32.3       1.0          2.6      11.0   \n",
       "\n",
       "  WindGustDir  WindGustSpeed WindDir9am WindDir3pm  WindSpeed9am  \\\n",
       "0           W           44.0          W        WNW          20.0   \n",
       "1         WNW           44.0        NNW        WSW           4.0   \n",
       "2         WSW           46.0          W        WSW          19.0   \n",
       "3          NE           24.0         SE          E          11.0   \n",
       "4           W           41.0        ENE         NW           7.0   \n",
       "\n",
       "   WindSpeed3pm  Humidity9am  Humidity3pm  Pressure9am  Pressure3pm  Cloud9am  \\\n",
       "0          24.0         71.0         22.0       1007.7       1007.1       8.0   \n",
       "1          22.0         44.0         25.0       1010.6       1007.8       7.0   \n",
       "2          26.0         38.0         30.0       1007.6       1008.7       0.0   \n",
       "3           9.0         45.0         16.0       1017.6       1012.8       1.0   \n",
       "4          20.0         82.0         33.0       1010.8       1006.0       7.0   \n",
       "\n",
       "   Cloud3pm  Temp9am  Temp3pm RainToday  RISK_MM RainTomorrow  Month  \n",
       "0       7.0     16.9     21.8        No      0.0           No     12  \n",
       "1       8.0     17.2     24.3        No      0.0           No     12  \n",
       "2       2.0     21.0     23.2        No      0.0           No     12  \n",
       "3       3.0     18.1     26.5        No      1.0           No     12  \n",
       "4       8.0     17.8     29.7        No      0.2           No     12  "
      ]
     },
     "execution_count": 5,
     "metadata": {},
     "output_type": "execute_result"
    }
   ],
   "source": [
    "df[\"Month\"] = pd.to_datetime(df[\"Date\"]).dt.month\n",
    "df.head()"
   ]
  },
  {
   "cell_type": "markdown",
   "metadata": {},
   "source": [
    "Now let us look at our categorical features."
   ]
  },
  {
   "cell_type": "code",
   "execution_count": 6,
   "metadata": {},
   "outputs": [
    {
     "data": {
      "text/plain": [
       "['Date',\n",
       " 'Location',\n",
       " 'WindGustDir',\n",
       " 'WindDir9am',\n",
       " 'WindDir3pm',\n",
       " 'RainToday',\n",
       " 'RainTomorrow']"
      ]
     },
     "execution_count": 6,
     "metadata": {},
     "output_type": "execute_result"
    }
   ],
   "source": [
    "cat = [i for i in df.select_dtypes('object')]\n",
    "cat"
   ]
  },
  {
   "cell_type": "markdown",
   "metadata": {},
   "source": [
    "We have already used 'Date' to make a 'Month' column, so we can drop this feature from our dataset."
   ]
  },
  {
   "cell_type": "code",
   "execution_count": 7,
   "metadata": {},
   "outputs": [],
   "source": [
    "df.drop('Date', axis = 1, inplace = True)"
   ]
  },
  {
   "cell_type": "code",
   "execution_count": 8,
   "metadata": {},
   "outputs": [
    {
     "data": {
      "text/plain": [
       "['Location',\n",
       " 'WindGustDir',\n",
       " 'WindDir9am',\n",
       " 'WindDir3pm',\n",
       " 'RainToday',\n",
       " 'RainTomorrow']"
      ]
     },
     "execution_count": 8,
     "metadata": {},
     "output_type": "execute_result"
    }
   ],
   "source": [
    "cat = [i for i in df.select_dtypes('object')]\n",
    "cat"
   ]
  },
  {
   "cell_type": "markdown",
   "metadata": {},
   "source": [
    "Let us look at the no. of unique values in each categorical feature."
   ]
  },
  {
   "cell_type": "code",
   "execution_count": 9,
   "metadata": {},
   "outputs": [
    {
     "name": "stdout",
     "output_type": "stream",
     "text": [
      "Location :49\n",
      "WindGustDir :16\n",
      "WindDir9am :16\n",
      "WindDir3pm :16\n",
      "RainToday :2\n",
      "RainTomorrow :2\n"
     ]
    }
   ],
   "source": [
    "for i in cat:\n",
    "    print(i,\":%d\"%df[i].nunique())"
   ]
  },
  {
   "cell_type": "markdown",
   "metadata": {},
   "source": [
    "Now if we perfom a one hot encoding on the categorical features, it would create a large no. of columns thus increasing the dimension of our dataset. We will try to reduce the no. of columns"
   ]
  },
  {
   "cell_type": "markdown",
   "metadata": {},
   "source": [
    "As we know that Month, Wind Direction are cyclic variables. We can transform the categorical label of these features to a continous values using cyclic transformation with the help of sine and cosine."
   ]
  },
  {
   "cell_type": "code",
   "execution_count": 10,
   "metadata": {},
   "outputs": [],
   "source": [
    "df['Month_Sin'] = np.sin((df['Month'])*(2.*np.pi/12))\n",
    "df['Month_Cos'] = np.cos((df['Month'])*(2.*np.pi/12))"
   ]
  },
  {
   "cell_type": "code",
   "execution_count": 11,
   "metadata": {},
   "outputs": [
    {
     "data": {
      "text/plain": [
       "<AxesSubplot:xlabel='Month_Sin', ylabel='Month_Cos'>"
      ]
     },
     "execution_count": 11,
     "metadata": {},
     "output_type": "execute_result"
    },
    {
     "data": {
      "image/png": "[encoded data removed]",
      "text/plain": [
       "<Figure size 360x360 with 1 Axes>"
      ]
     },
     "metadata": {
      "needs_background": "light"
     },
     "output_type": "display_data"
    }
   ],
   "source": [
    "plt.figure(figsize = (5,5))\n",
    "sns.scatterplot(df['Month_Sin'],df['Month_Cos'])"
   ]
  },
  {
   "cell_type": "code",
   "execution_count": 12,
   "metadata": {},
   "outputs": [],
   "source": [
    "wind_dict = {'N':1,'NNW':2,'NW':3,'WNW':4,\n",
    "             'W':5,'WSW':6,'SW':7,'SSW':8,\n",
    "             'S':9,'SSE':10,'SE':11,'ESE':12,\n",
    "             'E':13,'ENE':14,'NE':15,'NNE':16}\n",
    "\n",
    "df['WindGustDir'] = df['WindGustDir'].map(wind_dict)\n",
    "df['WindDir3pm'] = df['WindDir3pm'].map(wind_dict)\n",
    "df['WindDir9am'] = df['WindDir9am'].map(wind_dict)\n",
    "\n",
    "df['WindGustDir_sin'] = np.sin((df['WindGustDir'])*(2*np.pi/16))\n",
    "df['WindGustDir_cos'] = np.cos((df['WindGustDir'])*(2*np.pi/16))\n",
    "\n",
    "df['WindDir9am_sin'] = np.sin((df['WindDir9am'])*(2*np.pi/16))\n",
    "df['WindDir9am_cos'] = np.cos((df['WindDir9am'])*(2*np.pi/16))\n",
    "\n",
    "df['WindDir3pm_sin'] = np.sin((df['WindDir3pm'])*(2*np.pi/16))\n",
    "df['WindDir3pm_cos'] = np.cos((df['WindDir3pm'])*(2*np.pi/16))"
   ]
  },
  {
   "cell_type": "code",
   "execution_count": 13,
   "metadata": {},
   "outputs": [
    {
     "data": {
      "image/png": "[encoded data removed]",
      "text/plain": [
       "<Figure size 1440x360 with 3 Axes>"
      ]
     },
     "metadata": {
      "needs_background": "light"
     },
     "output_type": "display_data"
    }
   ],
   "source": [
    "plt.figure(figsize = (20,5))\n",
    "plt.subplot(1,3,1)\n",
    "sns.scatterplot(df['WindGustDir_sin'],df['WindGustDir_cos'])\n",
    "\n",
    "plt.subplot(1,3,2)\n",
    "sns.scatterplot(df['WindDir9am_sin'],df['WindDir9am_cos'])\n",
    "\n",
    "plt.subplot(1,3,3)\n",
    "sns.scatterplot(df['WindDir3pm_sin'],df['WindDir3pm_cos'])\n",
    "\n",
    "plt.show()"
   ]
  },
  {
   "cell_type": "markdown",
   "metadata": {},
   "source": [
    "Now we can drop 'Month','WindGustDir','WindDir9am' and 'WindDir3pm' features from our dataset"
   ]
  },
  {
   "cell_type": "code",
   "execution_count": 14,
   "metadata": {},
   "outputs": [],
   "source": [
    "df.drop(['Month','WindGustDir','WindDir9am','WindDir3pm'], axis = 1, inplace = True)"
   ]
  },
  {
   "cell_type": "markdown",
   "metadata": {},
   "source": [
    "### The Case of 'RISK_MM'"
   ]
  },
  {
   "cell_type": "markdown",
   "metadata": {},
   "source": [
    "RISK_MM is the amount of rainfall in millimeters for the next day. It includes all forms of precipitation that reach the ground, such as rain, drizzle, hail and snow. And it was the column that was used to actually determine whether or not it rained to create the binary target. Since it contains information directly about the target variable, including it would leak the future information to our model. So we will have to drop this feature."
   ]
  },
  {
   "cell_type": "code",
   "execution_count": 15,
   "metadata": {},
   "outputs": [],
   "source": [
    "df.drop('RISK_MM', axis = 1, inplace = True)"
   ]
  },
  {
   "cell_type": "markdown",
   "metadata": {},
   "source": [
    "Mapping the 'Yes' and 'No' in 'RainToday' and 'RainTomorrow' with 1 and 0 respectively."
   ]
  },
  {
   "cell_type": "code",
   "execution_count": 16,
   "metadata": {},
   "outputs": [],
   "source": [
    "df['RainToday'] = df['RainToday'].map({'Yes':1,'No':0})\n",
    "df['RainTomorrow'] = df['RainTomorrow'].map({'Yes':1,'No':0})"
   ]
  },
  {
   "cell_type": "code",
   "execution_count": 17,
   "metadata": {},
   "outputs": [],
   "source": [
    "X = df.drop('RainTomorrow', axis = 1)\n",
    "y = df['RainTomorrow']"
   ]
  },
  {
   "cell_type": "code",
   "execution_count": 18,
   "metadata": {},
   "outputs": [
    {
     "name": "stdout",
     "output_type": "stream",
     "text": [
      "No. of features after performing One-Hot Encoding:  73\n"
     ]
    }
   ],
   "source": [
    "#One Hot Encoding\n",
    "\n",
    "X_dummies = pd.get_dummies(X, drop_first = True)\n",
    "print('No. of features after performing One-Hot Encoding: ', X_dummies.shape[1])"
   ]
  },
  {
   "cell_type": "markdown",
   "metadata": {},
   "source": [
    "## MODEL FITTING"
   ]
  },
  {
   "cell_type": "code",
   "execution_count": 19,
   "metadata": {},
   "outputs": [],
   "source": [
    "from sklearn.preprocessing import MinMaxScaler\n",
    "from sklearn.linear_model import LogisticRegression\n",
    "from sklearn.model_selection import train_test_split\n",
    "from sklearn.metrics import confusion_matrix,classification_report,precision_score,recall_score,f1_score,roc_curve,roc_auc_score"
   ]
  },
  {
   "cell_type": "code",
   "execution_count": 20,
   "metadata": {},
   "outputs": [],
   "source": [
    "def fit_model (model, X_train, y_train, X_test, y_test):\n",
    "    '''Fits the passed model to the train set and \n",
    "    generates a detailed classification report with plots'''\n",
    "    \n",
    "    model.fit(X_train,y_train)\n",
    "    \n",
    "    y_pred = model.predict(X_test)\n",
    "    \n",
    "    print(\"Precision: %0.4f\"%precision_score(y_test,y_pred))\n",
    "    print(\"Recall:    %0.4f\"%recall_score(y_test,y_pred))\n",
    "    print(\"F1 Score:  %0.4f\"%f1_score(y_test,y_pred))\n",
    "    print(\"\\n\\nCONFUSION MATRIX:\\n\")\n",
    "    print(confusion_matrix(y_test,y_pred))\n",
    "    print(\"\\n\\nCLASSIFICATION REPORT\\n\")\n",
    "    print(classification_report(y_test,y_pred))\n",
    "    \n",
    "    fpr, tpr, thresholds = roc_curve(y_test, model.predict_proba(X_test)[:,1])\n",
    "    plt.plot(fpr, tpr, label=\"ROC Curve\")\n",
    "    plt.title(\"ROC Curve\")\n",
    "    plt.xlabel(\"False Positive Rate\")\n",
    "    plt.ylabel(\"True Positive Rate\")\n",
    "    plt.show()\n",
    "    \n",
    "    print(\"AUC Score: %0.4f\"%roc_auc_score(y_test,model.predict_proba(X_test)[:,1]))"
   ]
  },
  {
   "cell_type": "code",
   "execution_count": 21,
   "metadata": {},
   "outputs": [],
   "source": [
    "X_train,X_test,y_train,y_test = train_test_split(X_dummies,y,test_size = 0.33,stratify=y,random_state=42)"
   ]
  },
  {
   "cell_type": "code",
   "execution_count": 22,
   "metadata": {},
   "outputs": [],
   "source": [
    "scaler = MinMaxScaler()\n",
    "X_train = scaler.fit_transform(X_train)\n",
    "X_test = scaler.transform(X_test)"
   ]
  },
  {
   "cell_type": "markdown",
   "metadata": {},
   "source": [
    "## Logistic Regression"
   ]
  },
  {
   "cell_type": "markdown",
   "metadata": {},
   "source": [
    "### Base Model:"
   ]
  },
  {
   "cell_type": "code",
   "execution_count": 23,
   "metadata": {},
   "outputs": [
    {
     "name": "stdout",
     "output_type": "stream",
     "text": [
      "Base Logistic: \n",
      "\n",
      "Precision: 0.7303\n",
      "Recall:    0.4984\n",
      "F1 Score:  0.5925\n",
      "\n",
      "\n",
      "CONFUSION MATRIX:\n",
      "\n",
      "[[34469  1936]\n",
      " [ 5276  5243]]\n",
      "\n",
      "\n",
      "CLASSIFICATION REPORT\n",
      "\n",
      "              precision    recall  f1-score   support\n",
      "\n",
      "           0       0.87      0.95      0.91     36405\n",
      "           1       0.73      0.50      0.59     10519\n",
      "\n",
      "    accuracy                           0.85     46924\n",
      "   macro avg       0.80      0.72      0.75     46924\n",
      "weighted avg       0.84      0.85      0.84     46924\n",
      "\n"
     ]
    },
    {
     "data": {
      "image/png": "[encoded data removed]",
      "text/plain": [
       "<Figure size 432x288 with 1 Axes>"
      ]
     },
     "metadata": {
      "needs_background": "light"
     },
     "output_type": "display_data"
    },
    {
     "name": "stdout",
     "output_type": "stream",
     "text": [
      "AUC Score: 0.8649\n"
     ]
    }
   ],
   "source": [
    "print(\"Base Logistic: \\n\")\n",
    "fit_model(LogisticRegression(),X_train,y_train,X_test,y_test)"
   ]
  },
  {
   "cell_type": "markdown",
   "metadata": {},
   "source": [
    "__*Now let us fix the class imbalance problem then try to fit a model.*__"
   ]
  },
  {
   "cell_type": "code",
   "execution_count": 24,
   "metadata": {},
   "outputs": [
    {
     "name": "stdout",
     "output_type": "stream",
     "text": [
      "0    77.58\n",
      "1    22.42\n",
      "Name: RainTomorrow, dtype: float64\n"
     ]
    },
    {
     "data": {
      "text/plain": [
       "[]"
      ]
     },
     "execution_count": 24,
     "metadata": {},
     "output_type": "execute_result"
    },
    {
     "data": {
      "image/png": "[encoded data removed]",
      "text/plain": [
       "<Figure size 432x288 with 1 Axes>"
      ]
     },
     "metadata": {
      "needs_background": "light"
     },
     "output_type": "display_data"
    }
   ],
   "source": [
    "print(round((y.value_counts()/y.shape[0])*100,2))\n",
    "\n",
    "sns.countplot(y)\n",
    "plt.plot()"
   ]
  },
  {
   "cell_type": "markdown",
   "metadata": {},
   "source": [
    "In our target feature, the no. of 'No' instances (77.58%) is far greater than the no. of 'Yes' instances (22.42). This is clearly a case of class imbalance. To solve this we will apply to resampling techniques.\n",
    "\n",
    "1) Combination of UnderSampling and OverSampling\n",
    "\n",
    "2) SMOTE"
   ]
  },
  {
   "cell_type": "code",
   "execution_count": 25,
   "metadata": {},
   "outputs": [],
   "source": [
    "from imblearn.over_sampling import RandomOverSampler, SMOTE \n",
    "from imblearn.under_sampling import RandomUnderSampler, TomekLinks\n",
    "from imblearn.pipeline import Pipeline"
   ]
  },
  {
   "cell_type": "markdown",
   "metadata": {},
   "source": [
    "### 1) Combination of UnderSampling and OverSampling"
   ]
  },
  {
   "cell_type": "code",
   "execution_count": 26,
   "metadata": {},
   "outputs": [],
   "source": [
    "under = RandomUnderSampler(sampling_strategy=0.5)\n",
    "over = RandomOverSampler()\n",
    "pipe = Pipeline([('u',under),('o',over)])"
   ]
  },
  {
   "cell_type": "code",
   "execution_count": 27,
   "metadata": {},
   "outputs": [],
   "source": [
    "X_train_comb,y_train_comb = pipe.fit_resample(X_train,y_train)"
   ]
  },
  {
   "cell_type": "code",
   "execution_count": 28,
   "metadata": {},
   "outputs": [
    {
     "name": "stdout",
     "output_type": "stream",
     "text": [
      "The Distribution of classes in the trainig set before and after resampling: \n"
     ]
    },
    {
     "data": {
      "image/png": "[encoded data removed]",
      "text/plain": [
       "<Figure size 864x360 with 2 Axes>"
      ]
     },
     "metadata": {
      "needs_background": "light"
     },
     "output_type": "display_data"
    }
   ],
   "source": [
    "print(\"The Distribution of classes in the trainig set before and after resampling: \")\n",
    "\n",
    "plt.figure(figsize=(12,5))\n",
    "plt.subplot(1,2,1)\n",
    "sns.countplot(y_train)\n",
    "plt.title(\"BEFORE\")\n",
    "\n",
    "plt.subplot(1,2,2)\n",
    "sns.countplot(y_train_comb)\n",
    "plt.title(\"AFTER\")\n",
    "\n",
    "plt.show()"
   ]
  },
  {
   "cell_type": "markdown",
   "metadata": {},
   "source": [
    "No. of observations decreased because of the UnderSampling"
   ]
  },
  {
   "cell_type": "code",
   "execution_count": 29,
   "metadata": {},
   "outputs": [
    {
     "name": "stdout",
     "output_type": "stream",
     "text": [
      "After Using Combination of Oversampling & Undersampling: \n",
      "\n",
      "Precision: 0.5163\n",
      "Recall:    0.7718\n",
      "F1 Score:  0.6188\n",
      "\n",
      "\n",
      "CONFUSION MATRIX:\n",
      "\n",
      "[[28800  7605]\n",
      " [ 2400  8119]]\n",
      "\n",
      "\n",
      "CLASSIFICATION REPORT\n",
      "\n",
      "              precision    recall  f1-score   support\n",
      "\n",
      "           0       0.92      0.79      0.85     36405\n",
      "           1       0.52      0.77      0.62     10519\n",
      "\n",
      "    accuracy                           0.79     46924\n",
      "   macro avg       0.72      0.78      0.74     46924\n",
      "weighted avg       0.83      0.79      0.80     46924\n",
      "\n"
     ]
    },
    {
     "data": {
      "image/png": "[encoded data removed]",
      "text/plain": [
       "<Figure size 432x288 with 1 Axes>"
      ]
     },
     "metadata": {
      "needs_background": "light"
     },
     "output_type": "display_data"
    },
    {
     "name": "stdout",
     "output_type": "stream",
     "text": [
      "AUC Score: 0.8654\n"
     ]
    }
   ],
   "source": [
    "print(\"After Using Combination of Oversampling & Undersampling: \\n\")\n",
    "fit_model(LogisticRegression(),X_train_comb,y_train_comb,X_test,y_test)"
   ]
  },
  {
   "cell_type": "markdown",
   "metadata": {},
   "source": [
    "* On comparing this model with our base model, we can see a significant increase in the F1 score (from 0.59 to 0.62)\n",
    "\n",
    "\n",
    "* For class 1, the recall increased from 0.4984 to 0.7717 but the precision fell heavily from 0.7303 to 0.5161 which was expected as we have resampled the dataset because as we resample the dataset, the model is presented with more instances of minority class, therefore it is more likely that the model will optimise itself to recognise minority class instances\n"
   ]
  },
  {
   "cell_type": "markdown",
   "metadata": {},
   "source": [
    "### 2) SMOTE"
   ]
  },
  {
   "cell_type": "code",
   "execution_count": 30,
   "metadata": {},
   "outputs": [],
   "source": [
    "smote = SMOTE()"
   ]
  },
  {
   "cell_type": "code",
   "execution_count": 31,
   "metadata": {},
   "outputs": [],
   "source": [
    "X_train_sm,y_train_sm = smote.fit_resample(X_train,y_train)"
   ]
  },
  {
   "cell_type": "code",
   "execution_count": 32,
   "metadata": {},
   "outputs": [
    {
     "name": "stdout",
     "output_type": "stream",
     "text": [
      "The Distribution of classes in the trainig set before and after resampling: \n"
     ]
    },
    {
     "data": {
      "image/png": "[encoded data removed]",
      "text/plain": [
       "<Figure size 864x360 with 2 Axes>"
      ]
     },
     "metadata": {
      "needs_background": "light"
     },
     "output_type": "display_data"
    }
   ],
   "source": [
    "print(\"The Distribution of classes in the trainig set before and after resampling: \")\n",
    "\n",
    "plt.figure(figsize=(12,5))\n",
    "plt.subplot(1,2,1)\n",
    "sns.countplot(y_train)\n",
    "plt.title(\"BEFORE\")\n",
    "\n",
    "plt.subplot(1,2,2)\n",
    "sns.countplot(y_train_sm)\n",
    "plt.title(\"AFTER\")\n",
    "\n",
    "plt.show()"
   ]
  },
  {
   "cell_type": "markdown",
   "metadata": {},
   "source": [
    "The no. of observation in SMOTE resampling remained the same because SMOTE oversamples the minority class."
   ]
  },
  {
   "cell_type": "code",
   "execution_count": 33,
   "metadata": {
    "scrolled": false
   },
   "outputs": [
    {
     "name": "stdout",
     "output_type": "stream",
     "text": [
      "After SMOTE Resampling: \n",
      "\n",
      "Precision: 0.5201\n",
      "Recall:    0.7662\n",
      "F1 Score:  0.6196\n",
      "\n",
      "\n",
      "CONFUSION MATRIX:\n",
      "\n",
      "[[28967  7438]\n",
      " [ 2459  8060]]\n",
      "\n",
      "\n",
      "CLASSIFICATION REPORT\n",
      "\n",
      "              precision    recall  f1-score   support\n",
      "\n",
      "           0       0.92      0.80      0.85     36405\n",
      "           1       0.52      0.77      0.62     10519\n",
      "\n",
      "    accuracy                           0.79     46924\n",
      "   macro avg       0.72      0.78      0.74     46924\n",
      "weighted avg       0.83      0.79      0.80     46924\n",
      "\n"
     ]
    },
    {
     "data": {
      "image/png": "[encoded data removed]",
      "text/plain": [
       "<Figure size 432x288 with 1 Axes>"
      ]
     },
     "metadata": {
      "needs_background": "light"
     },
     "output_type": "display_data"
    },
    {
     "name": "stdout",
     "output_type": "stream",
     "text": [
      "AUC Score: 0.8650\n"
     ]
    }
   ],
   "source": [
    "print(\"After SMOTE Resampling: \\n\")\n",
    "fit_model(LogisticRegression(),X_train_sm,y_train_sm,X_test,y_test)"
   ]
  },
  {
   "cell_type": "markdown",
   "metadata": {},
   "source": [
    "* For class 1, we can see a very slight increase precision and and a little decrease in recall on comparing this model (Trained on SMOTE resampled data) with the previous model.\n",
    "\n",
    "\n",
    "* The F1 score remained the same (0.62).\n",
    "\n",
    "\n",
    "* We can see that both the resampling technique has definitely improved our model as compared with the base model."
   ]
  },
  {
   "cell_type": "markdown",
   "metadata": {},
   "source": [
    "### _Extracting more relevant features to the model using Recursive Feature Elimination._"
   ]
  },
  {
   "cell_type": "code",
   "execution_count": 34,
   "metadata": {},
   "outputs": [],
   "source": [
    "from sklearn.ensemble import RandomForestClassifier\n",
    "from sklearn.feature_selection import RFE\n",
    "rfe = RFE(LogisticRegression(solver = 'saga'))"
   ]
  },
  {
   "cell_type": "code",
   "execution_count": 35,
   "metadata": {},
   "outputs": [],
   "source": [
    "X_train_rfe = rfe.fit_transform(X_train,y_train)\n",
    "X_test_rfe = rfe.transform(X_test)"
   ]
  },
  {
   "cell_type": "code",
   "execution_count": 36,
   "metadata": {},
   "outputs": [
    {
     "name": "stdout",
     "output_type": "stream",
     "text": [
      "No. of features before appling RFE:  73\n",
      "No. of features after appling RFE:  36\n"
     ]
    }
   ],
   "source": [
    "print(\"No. of features before appling RFE: \",X_train.shape[1])\n",
    "print(\"No. of features after appling RFE: \",rfe.n_features_)"
   ]
  },
  {
   "cell_type": "code",
   "execution_count": 37,
   "metadata": {},
   "outputs": [
    {
     "name": "stdout",
     "output_type": "stream",
     "text": [
      "The Selected Features are: \n",
      "\n",
      "['MinTemp', 'MaxTemp', 'Rainfall', 'Evaporation', 'Sunshine', 'WindGustSpeed', 'WindSpeed9am', 'WindSpeed3pm', 'Humidity3pm', 'Pressure3pm', 'Cloud3pm', 'Temp3pm', 'RainToday', 'Month_Sin', 'Month_Cos', 'WindDir3pm_sin', 'WindDir3pm_cos', 'Location_Albany', 'Location_Ballarat', 'Location_Cairns', 'Location_CoffsHarbour', 'Location_Darwin', 'Location_GoldCoast', 'Location_Hobart', 'Location_Katherine', 'Location_Launceston', 'Location_MelbourneAirport', 'Location_MountGinini', 'Location_Newcastle', 'Location_NorahHead', 'Location_NorfolkIsland', 'Location_Sale', 'Location_SydneyAirport', 'Location_Townsville', 'Location_Wollongong', 'Location_Woomera']\n"
     ]
    }
   ],
   "source": [
    "col = X_dummies.columns\n",
    "selected_features = np.where(rfe.support_)\n",
    "\n",
    "print(\"The Selected Features are: \\n\")\n",
    "for i in selected_features:\n",
    "    print(list(col[i]))"
   ]
  },
  {
   "cell_type": "markdown",
   "metadata": {},
   "source": [
    "__*Applying the combination of UnderSampling and OverSampling on the new training set with the extracted features and fitting a model on it.*__"
   ]
  },
  {
   "cell_type": "code",
   "execution_count": 38,
   "metadata": {},
   "outputs": [],
   "source": [
    "X_train_comb_rfe,y_train_comb_rfe = pipe.fit_resample(X_train_rfe,y_train)"
   ]
  },
  {
   "cell_type": "code",
   "execution_count": 39,
   "metadata": {},
   "outputs": [
    {
     "name": "stdout",
     "output_type": "stream",
     "text": [
      "After extracting important features and applying comibnation of UnderSampling and OverSampling: \n",
      "\n",
      "Precision: 0.5142\n",
      "Recall:    0.7729\n",
      "F1 Score:  0.6176\n",
      "\n",
      "\n",
      "CONFUSION MATRIX:\n",
      "\n",
      "[[28725  7680]\n",
      " [ 2389  8130]]\n",
      "\n",
      "\n",
      "CLASSIFICATION REPORT\n",
      "\n",
      "              precision    recall  f1-score   support\n",
      "\n",
      "           0       0.92      0.79      0.85     36405\n",
      "           1       0.51      0.77      0.62     10519\n",
      "\n",
      "    accuracy                           0.79     46924\n",
      "   macro avg       0.72      0.78      0.73     46924\n",
      "weighted avg       0.83      0.79      0.80     46924\n",
      "\n"
     ]
    },
    {
     "data": {
      "image/png": "[encoded data removed]",
      "text/plain": [
       "<Figure size 432x288 with 1 Axes>"
      ]
     },
     "metadata": {
      "needs_background": "light"
     },
     "output_type": "display_data"
    },
    {
     "name": "stdout",
     "output_type": "stream",
     "text": [
      "AUC Score: 0.8645\n"
     ]
    }
   ],
   "source": [
    "print(\"After extracting important features and applying comibnation of UnderSampling and OverSampling: \\n\")\n",
    "fit_model(LogisticRegression(),X_train_comb_rfe,y_train_comb_rfe,X_test_rfe,y_test)"
   ]
  },
  {
   "cell_type": "markdown",
   "metadata": {},
   "source": [
    "__*Applying SMOTE Resampling on the new training set with the extracted features and fitting a model on it.*__"
   ]
  },
  {
   "cell_type": "code",
   "execution_count": 40,
   "metadata": {},
   "outputs": [],
   "source": [
    "X_train_sm_rfe,y_train_sm_rfe = smote.fit_resample(X_train_rfe,y_train)"
   ]
  },
  {
   "cell_type": "code",
   "execution_count": 41,
   "metadata": {},
   "outputs": [
    {
     "name": "stdout",
     "output_type": "stream",
     "text": [
      "SMOTE Resampling on Extracted Features: \n",
      "\n",
      "Precision: 0.5158\n",
      "Recall:    0.7697\n",
      "F1 Score:  0.6177\n",
      "\n",
      "\n",
      "CONFUSION MATRIX:\n",
      "\n",
      "[[28804  7601]\n",
      " [ 2422  8097]]\n",
      "\n",
      "\n",
      "CLASSIFICATION REPORT\n",
      "\n",
      "              precision    recall  f1-score   support\n",
      "\n",
      "           0       0.92      0.79      0.85     36405\n",
      "           1       0.52      0.77      0.62     10519\n",
      "\n",
      "    accuracy                           0.79     46924\n",
      "   macro avg       0.72      0.78      0.73     46924\n",
      "weighted avg       0.83      0.79      0.80     46924\n",
      "\n"
     ]
    },
    {
     "data": {
      "image/png": "[encoded data removed]",
      "text/plain": [
       "<Figure size 432x288 with 1 Axes>"
      ]
     },
     "metadata": {
      "needs_background": "light"
     },
     "output_type": "display_data"
    },
    {
     "name": "stdout",
     "output_type": "stream",
     "text": [
      "AUC Score: 0.8641\n"
     ]
    }
   ],
   "source": [
    "print(\"SMOTE Resampling on Extracted Features: \\n\")\n",
    "fit_model(LogisticRegression(),X_train_sm_rfe,y_train_sm_rfe,X_test_rfe,y_test)"
   ]
  },
  {
   "cell_type": "markdown",
   "metadata": {},
   "source": [
    "__We are getting same results even with half of the features.__"
   ]
  },
  {
   "cell_type": "markdown",
   "metadata": {},
   "source": [
    "## HYPERTUNING THE PARAMETERS\n",
    "\n",
    "As both the resampling techniques are giving similar results, we will Hypertune the parameters of our models to try to get better results in both the resampling techniques."
   ]
  },
  {
   "cell_type": "code",
   "execution_count": 42,
   "metadata": {},
   "outputs": [],
   "source": [
    "from sklearn.model_selection import GridSearchCV"
   ]
  },
  {
   "cell_type": "markdown",
   "metadata": {},
   "source": [
    "### 1) Hypertuning the Combined Resampled Model."
   ]
  },
  {
   "cell_type": "code",
   "execution_count": 43,
   "metadata": {},
   "outputs": [],
   "source": [
    "pipe_comb = Pipeline([('u',under),('o',over),('log',LogisticRegression())])\n",
    "params = {'u__sampling_strategy':(0.2,0.4,0.5)\n",
    "         ,'o__sampling_strategy':(0.5,0.75,1)\n",
    "         ,'log__C':(0.01,0.1,1,100)}\n",
    "gcv_comb = GridSearchCV(pipe_comb, param_grid = params, cv = 5, scoring = 'f1', n_jobs = -1)"
   ]
  },
  {
   "cell_type": "code",
   "execution_count": 44,
   "metadata": {},
   "outputs": [
    {
     "data": {
      "text/plain": [
       "GridSearchCV(cv=5,\n",
       "             estimator=Pipeline(steps=[('u',\n",
       "                                        RandomUnderSampler(sampling_strategy=0.5)),\n",
       "                                       ('o', RandomOverSampler()),\n",
       "                                       ('log', LogisticRegression())]),\n",
       "             n_jobs=-1,\n",
       "             param_grid={'log__C': (0.01, 0.1, 1, 100),\n",
       "                         'o__sampling_strategy': (0.5, 0.75, 1),\n",
       "                         'u__sampling_strategy': (0.2, 0.4, 0.5)},\n",
       "             scoring='f1')"
      ]
     },
     "execution_count": 44,
     "metadata": {},
     "output_type": "execute_result"
    }
   ],
   "source": [
    "gcv_comb.fit(X_train_rfe, y_train)"
   ]
  },
  {
   "cell_type": "code",
   "execution_count": 45,
   "metadata": {},
   "outputs": [
    {
     "name": "stdout",
     "output_type": "stream",
     "text": [
      "Precision: 0.5633\n",
      "Recall:    0.7095\n",
      "F1 Score:  0.6280\n",
      "\n",
      "\n",
      "CONFUSION MATRIX:\n",
      "\n",
      "[[30620  5785]\n",
      " [ 3056  7463]]\n",
      "\n",
      "\n",
      "CLASSIFICATION REPORT\n",
      "\n",
      "              precision    recall  f1-score   support\n",
      "\n",
      "           0       0.91      0.84      0.87     36405\n",
      "           1       0.56      0.71      0.63     10519\n",
      "\n",
      "    accuracy                           0.81     46924\n",
      "   macro avg       0.74      0.78      0.75     46924\n",
      "weighted avg       0.83      0.81      0.82     46924\n",
      "\n"
     ]
    },
    {
     "data": {
      "image/png": "[encoded data removed]",
      "text/plain": [
       "<Figure size 432x288 with 1 Axes>"
      ]
     },
     "metadata": {
      "needs_background": "light"
     },
     "output_type": "display_data"
    },
    {
     "name": "stdout",
     "output_type": "stream",
     "text": [
      "AUC Score: 0.8645\n",
      "\n",
      "Best Parameters:  {'log__C': 1, 'o__sampling_strategy': 0.75, 'u__sampling_strategy': 0.4}\n"
     ]
    }
   ],
   "source": [
    "y_pred_comb = gcv_comb.predict(X_test_rfe)\n",
    "\n",
    "print(\"Precision: %0.4f\"%precision_score(y_test,y_pred_comb))\n",
    "print(\"Recall:    %0.4f\"%recall_score(y_test,y_pred_comb))\n",
    "print(\"F1 Score:  %0.4f\"%f1_score(y_test,y_pred_comb))\n",
    "print(\"\\n\\nCONFUSION MATRIX:\\n\")\n",
    "print(confusion_matrix(y_test,y_pred_comb))\n",
    "print(\"\\n\\nCLASSIFICATION REPORT\\n\")\n",
    "print(classification_report(y_test,y_pred_comb))\n",
    "    \n",
    "fpr, tpr, thresholds = roc_curve(y_test, gcv_comb.predict_proba(X_test_rfe)[:,1])\n",
    "plt.plot(fpr, tpr, label=\"ROC Curve\")\n",
    "plt.title(\"ROC Curve\")\n",
    "plt.xlabel(\"False Positive Rate\")\n",
    "plt.ylabel(\"True Positive Rate\")\n",
    "plt.show()\n",
    "    \n",
    "print(\"AUC Score: %0.4f\"%roc_auc_score(y_test,gcv_comb.predict_proba(X_test_rfe)[:,1]))\n",
    "print(\"\\nBest Parameters: \",gcv_comb.best_params_)"
   ]
  },
  {
   "cell_type": "markdown",
   "metadata": {},
   "source": [
    "__*Comparing this Hyptertuned Model with the previous model fitted on the SMOTE Resampling Technique.*__\n",
    "\n",
    "* The F1 score increased from 0.62 to 0.63.\n",
    "\n",
    "* For class 1, the recall decreased from 0.7697 to 0.7095 but we can observe an increase in precision from 0.5158 to 0.5633.\n",
    "\n",
    "* We can also observe a slight increase in the AUC score from 0.8641 to 0.8645.\n",
    "\n",
    "* Grid Search selects the best parameters for sampling startegy in case of UnderSampling as 0.4 and in case of OverSampling as 0.75."
   ]
  },
  {
   "cell_type": "markdown",
   "metadata": {},
   "source": [
    "### 2) Hypertuning the SMOTE Model."
   ]
  },
  {
   "cell_type": "code",
   "execution_count": 46,
   "metadata": {},
   "outputs": [],
   "source": [
    "pipe_smote = Pipeline([('sm',smote),('log',LogisticRegression())])\n",
    "params = {'sm__sampling_strategy':(0.5,0.75,1)\n",
    "         ,'log__C':(0.01,0.1,1,100)}\n",
    "gcv_smote = GridSearchCV(pipe_smote, param_grid = params, cv = 5, scoring = 'f1', n_jobs = -1)"
   ]
  },
  {
   "cell_type": "code",
   "execution_count": 47,
   "metadata": {},
   "outputs": [
    {
     "data": {
      "text/plain": [
       "GridSearchCV(cv=5,\n",
       "             estimator=Pipeline(steps=[('sm', SMOTE()),\n",
       "                                       ('log', LogisticRegression())]),\n",
       "             n_jobs=-1,\n",
       "             param_grid={'log__C': (0.01, 0.1, 1, 100),\n",
       "                         'sm__sampling_strategy': (0.5, 0.75, 1)},\n",
       "             scoring='f1')"
      ]
     },
     "execution_count": 47,
     "metadata": {},
     "output_type": "execute_result"
    }
   ],
   "source": [
    "gcv_smote.fit(X_train_rfe, y_train)"
   ]
  },
  {
   "cell_type": "code",
   "execution_count": 48,
   "metadata": {},
   "outputs": [
    {
     "name": "stdout",
     "output_type": "stream",
     "text": [
      "Precision: 0.5615\n",
      "Recall:    0.7116\n",
      "F1 Score:  0.6277\n",
      "\n",
      "\n",
      "CONFUSION MATRIX:\n",
      "\n",
      "[[30559  5846]\n",
      " [ 3034  7485]]\n",
      "\n",
      "\n",
      "CLASSIFICATION REPORT\n",
      "\n",
      "              precision    recall  f1-score   support\n",
      "\n",
      "           0       0.91      0.84      0.87     36405\n",
      "           1       0.56      0.71      0.63     10519\n",
      "\n",
      "    accuracy                           0.81     46924\n",
      "   macro avg       0.74      0.78      0.75     46924\n",
      "weighted avg       0.83      0.81      0.82     46924\n",
      "\n"
     ]
    },
    {
     "data": {
      "image/png": "[encoded data removed]",
      "text/plain": [
       "<Figure size 432x288 with 1 Axes>"
      ]
     },
     "metadata": {
      "needs_background": "light"
     },
     "output_type": "display_data"
    },
    {
     "name": "stdout",
     "output_type": "stream",
     "text": [
      "AUC Score: 0.8642\n",
      "\n",
      "Best Parameters:  {'log__C': 100, 'sm__sampling_strategy': 0.75}\n"
     ]
    }
   ],
   "source": [
    "y_pred_smote = gcv_smote.predict(X_test_rfe)\n",
    "\n",
    "print(\"Precision: %0.4f\"%precision_score(y_test,y_pred_smote))\n",
    "print(\"Recall:    %0.4f\"%recall_score(y_test,y_pred_smote))\n",
    "print(\"F1 Score:  %0.4f\"%f1_score(y_test,y_pred_smote))\n",
    "print(\"\\n\\nCONFUSION MATRIX:\\n\")\n",
    "print(confusion_matrix(y_test,y_pred_smote))\n",
    "print(\"\\n\\nCLASSIFICATION REPORT\\n\")\n",
    "print(classification_report(y_test,y_pred_smote))\n",
    "    \n",
    "fpr, tpr, thresholds = roc_curve(y_test, gcv_smote.predict_proba(X_test_rfe)[:,1])\n",
    "plt.plot(fpr, tpr, label=\"ROC Curve\")\n",
    "plt.title(\"ROC Curve\")\n",
    "plt.xlabel(\"False Positive Rate\")\n",
    "plt.ylabel(\"True Positive Rate\")\n",
    "plt.show()\n",
    "    \n",
    "print(\"AUC Score: %0.4f\"%roc_auc_score(y_test,gcv_smote.predict_proba(X_test_rfe)[:,1]))\n",
    "print(\"\\nBest Parameters: \",gcv_smote.best_params_)"
   ]
  },
  {
   "cell_type": "markdown",
   "metadata": {},
   "source": [
    "__*For Hyptertuned Model on SMOTE Resampling Technique*__\n",
    "\n",
    "* The F1 score remains the same (0.63) as the previously fitted hypertuned model.\n",
    "\n",
    "* For class 1, precision remained somewhat same but a slight increase in recall can be observed. ( From 0.7095 to 0.7116)\n",
    "\n",
    "* The best parameter for sampling strategy in SMOTE selected by Hyptertuning is 0.75."
   ]
  },
  {
   "cell_type": "markdown",
   "metadata": {},
   "source": [
    "## CONCLUSIONS:"
   ]
  },
  {
   "cell_type": "markdown",
   "metadata": {},
   "source": [
    "* The F1 score of the models increased after we applied the resampling techniques.\n",
    "\n",
    "* The F1 score of the models fitted on both the Resampling technique is same.\n",
    "\n",
    "* We are achieving same results even with half of the no. of features after applying Recursive Feature Elimination.\n",
    "\n",
    "* The models showed slight imporvement in their scores after hyptertuning their parameters.\n",
    "\n",
    "* The SMOTE Hypertuned Model is giving out best result on comparing it with the other models."
   ]
  }
 ],
 "metadata": {
  "kernelspec": {
   "display_name": "Python 3",
   "language": "python",
   "name": "python3"
  },
  "language_info": {
   "codemirror_mode": {
    "name": "ipython",
    "version": 3
   },
   "file_extension": ".py",
   "mimetype": "text/x-python",
   "name": "python",
   "nbconvert_exporter": "python",
   "pygments_lexer": "ipython3",
   "version": "3.8.5"
  }
 },
 "nbformat": 4,
 "nbformat_minor": 4
}
